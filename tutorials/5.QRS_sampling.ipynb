{
 "cells": [
  {
   "attachments": {},
   "cell_type": "markdown",
   "metadata": {},
   "source": [
    "disco  \n",
    "Copyright (C) 2022-present NAVER Corp.  \n",
    "Creative Commons Attribution-NonCommercial-ShareAlike 4.0 license  "
   ]
  },
  {
   "attachments": {},
   "cell_type": "markdown",
   "metadata": {},
   "source": [
    "# Quasi-Rejection Sampling"
   ]
  },
  {
   "attachments": {},
   "cell_type": "markdown",
   "metadata": {},
   "source": [
    "Another way to approximate our EBM is to use Quasi-Rejection Sampling."
   ]
  },
  {
   "attachments": {},
   "cell_type": "markdown",
   "metadata": {},
   "source": [
    "## Expressing Preferences"
   ]
  },
  {
   "attachments": {},
   "cell_type": "markdown",
   "metadata": {},
   "source": [
    "That part is similar to the previous notebooks, about the Expression of Preferences or Tuning with DPG. Here we're going to define a distributional constraint: we want half of our examples to ~~be~~include amazing."
   ]
  },
  {
   "cell_type": "code",
   "execution_count": null,
   "metadata": {},
   "outputs": [],
   "source": [
    "import re\n",
    "from disco.scorers import BooleanScorer\n",
    "from disco.distributions import LMDistribution\n",
    "from disco.distributions.single_context_distribution import SingleContextDistribution\n",
    "\n",
    "is_amazing = lambda s, c: bool(re.search(r\"\\bamazing\\b\", s.text))\n",
    "amazing_scorer = BooleanScorer(is_amazing)\n",
    "base = LMDistribution()\n",
    "\n",
    "incipit = \"It was a cold and stormy night\"\n",
    "\n",
    "target = base.constrain([amazing_scorer], [1/2],\n",
    "        n_samples=2**10,\n",
    "        context_distribution=SingleContextDistribution(incipit))"
   ]
  },
  {
   "attachments": {},
   "cell_type": "markdown",
   "metadata": {},
   "source": [
    "## Sampling"
   ]
  },
  {
   "attachments": {},
   "cell_type": "markdown",
   "metadata": {},
   "source": [
    "We then instantiate a proposal model to sample from."
   ]
  },
  {
   "cell_type": "code",
   "execution_count": null,
   "metadata": {},
   "outputs": [],
   "source": [
    "proposal = LMDistribution()"
   ]
  },
  {
   "attachments": {},
   "cell_type": "markdown",
   "metadata": {},
   "source": [
    "Note that we can peek inside the EBM to look at the computed coeeficient"
   ]
  },
  {
   "cell_type": "code",
   "execution_count": null,
   "metadata": {},
   "outputs": [],
   "source": [
    "print(target.scorers[1].coefficients)"
   ]
  },
  {
   "attachments": {},
   "cell_type": "markdown",
   "metadata": {},
   "source": [
    "It's now just a matter of instantiating a sampler."
   ]
  },
  {
   "cell_type": "code",
   "execution_count": null,
   "metadata": {},
   "outputs": [],
   "source": [
    "from disco.samplers import QuasiRejectionSampler"
   ]
  },
  {
   "cell_type": "code",
   "execution_count": null,
   "metadata": {},
   "outputs": [],
   "source": [
    "sampler = QuasiRejectionSampler(target, proposal, beta=400)"
   ]
  },
  {
   "attachments": {},
   "cell_type": "markdown",
   "metadata": {},
   "source": [
    "How are we doing?"
   ]
  },
  {
   "cell_type": "code",
   "execution_count": null,
   "metadata": {},
   "outputs": [],
   "source": [
    "from disco.samplers import AccumulationSampler"
   ]
  },
  {
   "cell_type": "code",
   "execution_count": null,
   "metadata": {},
   "outputs": [],
   "source": [
    "samples, log_scores = sampler.sample(sampling_size=2**10, context=incipit)"
   ]
  },
  {
   "cell_type": "code",
   "execution_count": null,
   "metadata": {},
   "outputs": [],
   "source": [
    "sum([is_amazing(s, _) for s in samples]) / len(samples)"
   ]
  },
  {
   "cell_type": "code",
   "execution_count": null,
   "metadata": {},
   "outputs": [],
   "source": []
  }
 ],
 "metadata": {
  "kernelspec": {
   "display_name": "Python 3.10.6 (conda)",
   "language": "python",
   "name": "python3"
  },
  "language_info": {
   "codemirror_mode": {
    "name": "ipython",
    "version": 3
   },
   "file_extension": ".py",
   "mimetype": "text/x-python",
   "name": "python",
   "nbconvert_exporter": "python",
   "pygments_lexer": "ipython3",
   "version": "3.10.6 | packaged by conda-forge | (main, Aug 22 2022, 20:38:29) [Clang 13.0.1 ]"
  },
  "vscode": {
   "interpreter": {
    "hash": "babb4baf4e80bd80b9852210fc5469c0783907e52a560ed7247caef52808358d"
   }
  }
 },
 "nbformat": 4,
 "nbformat_minor": 2
}
